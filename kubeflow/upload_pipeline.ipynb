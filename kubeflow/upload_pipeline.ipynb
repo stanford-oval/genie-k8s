{
 "cells": [
  {
   "cell_type": "markdown",
   "metadata": {},
   "source": [
    "# Upload pipeline to kubeflow\n",
    "\n",
    "The following cell will upload the `generate-train-eval` pipeline to kubeflow pipeline.  After you run the cell, go to https://kubeflow.research.almond.stanford.edu/_/pipeline . You should see your newly uploaded pipeline version under `generate-train-eval`.\n",
    "\n",
    "To run the pipeline, make sure you switch the namespace to `research-kf`."
   ]
  },
  {
   "cell_type": "code",
   "execution_count": 1,
   "metadata": {},
   "outputs": [],
   "source": [
    "import os\n",
    "os.environ[\"CONTAINER_IMAGE\"]='932360549041.dkr.ecr.us-west-2.amazonaws.com/masp:0.2'\n",
    "os.environ[\"THINGPEDIA_DEVELOPER_KEY\"]='1'"
   ]
  },
  {
   "cell_type": "code",
   "execution_count": 2,
   "metadata": {},
   "outputs": [
    {
     "name": "stdout",
     "output_type": "stream",
     "text": [
      "{'code_source_url': None,\n",
      " 'created_at': datetime.datetime(2020, 11, 14, 20, 57, 41, tzinfo=tzlocal()),\n",
      " 'id': '177b8e66-6e84-4211-87a3-3a154a01e40c',\n",
      " 'name': '11142020-20:57:41',\n",
      " 'package_url': None,\n",
      " 'parameters': [{'name': 'owner', 'value': None},\n",
      "                {'name': 'model', 'value': None},\n",
      "                {'name': 'image',\n",
      "                 'value': '932360549041.dkr.ecr.us-west-2.amazonaws.com/masp:0.2'},\n",
      "                {'name': 'train_batch_size', 'value': '128'},\n",
      "                {'name': 'test_batch_size', 'value': '128'},\n",
      "                {'name': 'num_epochs', 'value': '8'},\n",
      "                {'name': 'train_eval_period', 'value': '2000'},\n",
      "                {'name': 'eval_timeout', 'value': '5.'},\n",
      "                {'name': 'eval_num_parallel', 'value': '1'},\n",
      "                {'name': 'eval_model_id', 'value': '0'},\n",
      "                {'name': 'search_logical_form_max_train_train',\n",
      "                 'value': '90000'},\n",
      "                {'name': 'search_logical_form_beam_size_train',\n",
      "                 'value': '1000'},\n",
      "                {'name': 'search_logical_form_num_parallel_train',\n",
      "                 'value': '1'},\n",
      "                {'name': 'search_logical_form_start_index_train', 'value': '0'},\n",
      "                {'name': 'search_logical_form_max_train_dev', 'value': '6000'},\n",
      "                {'name': 'search_logical_form_beam_size_dev', 'value': '1000'},\n",
      "                {'name': 'search_logical_form_num_parallel_dev', 'value': '1'},\n",
      "                {'name': 'search_logical_form_start_index_dev', 'value': '0'},\n",
      "                {'name': 'search_logical_form_additional_args', 'value': None},\n",
      "                {'name': 'train_additional_args', 'value': None},\n",
      "                {'name': 'eval_additional_args', 'value': None}],\n",
      " 'resource_references': [{'key': {'id': '9b27d179-9e06-4ea7-81fe-92819614dc6e',\n",
      "                                  'type': 'PIPELINE'},\n",
      "                          'name': None,\n",
      "                          'relationship': 'OWNER'}]}\n"
     ]
    }
   ],
   "source": [
    "import generate_train_eval \n",
    "from utils import upload_pipeline\n",
    "\n",
    "resp = upload_pipeline('masp-train', generate_train_eval.masp_train_pipeline)\n",
    "print(resp)"
   ]
  },
  {
   "cell_type": "code",
   "execution_count": null,
   "metadata": {},
   "outputs": [],
   "source": []
  }
 ],
 "metadata": {
  "kernelspec": {
   "display_name": "Python 3",
   "language": "python",
   "name": "python3"
  },
  "language_info": {
   "codemirror_mode": {
    "name": "ipython",
    "version": 3
   },
   "file_extension": ".py",
   "mimetype": "text/x-python",
   "name": "python",
   "nbconvert_exporter": "python",
   "pygments_lexer": "ipython3",
   "version": "3.6.8"
  }
 },
 "nbformat": 4,
 "nbformat_minor": 4
}
