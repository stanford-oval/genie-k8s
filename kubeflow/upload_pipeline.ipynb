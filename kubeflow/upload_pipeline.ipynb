{
 "cells": [
  {
   "cell_type": "markdown",
   "metadata": {},
   "source": [
    "# Upload pipeline to kubeflow\n",
    "\n",
    "The following cell will upload the `generate-train-eval` pipeline to kubeflow pipeline.  After you run the cell, go to https://kubeflow.research.almond.stanford.edu/_/pipeline . You should see your newly uploaded pipeline version under `generate-train-eval`.\n",
    "\n",
    "To run the pipeline, make sure you switch the namespace to `research-kf`."
   ]
  },
  {
   "cell_type": "code",
   "execution_count": 4,
   "metadata": {},
   "outputs": [
    {
     "name": "stdout",
     "output_type": "stream",
     "text": [
      "{'code_source_url': None,\n",
      " 'created_at': datetime.datetime(2020, 10, 16, 15, 46, 9, tzinfo=tzlocal()),\n",
      " 'id': 'c20b5c1e-4956-4bc7-a1c3-3269b4d51590',\n",
      " 'name': '10162020-15:46:09',\n",
      " 'package_url': None,\n",
      " 'parameters': [{'name': 's3_bucket', 'value': 'geniehai'},\n",
      "                {'name': 'image',\n",
      "                 'value': '932360549041.dkr.ecr.us-west-2.amazonaws.com/genie-toolkit:latest-jgd5'},\n",
      "                {'name': 'owner', 'value': 'jgd5'},\n",
      "                {'name': 'dataset_owner', 'value': 'jgd5'},\n",
      "                {'name': 'project', 'value': 'almond'},\n",
      "                {'name': 'experiment', 'value': 'main'},\n",
      "                {'name': 'model', 'value': 'model'},\n",
      "                {'name': 'dataset', 'value': 'e2e_test_dataset'}],\n",
      " 'resource_references': [{'key': {'id': 'c0c89f92-ea8f-4fd8-ad98-251405b24ad6',\n",
      "                                  'type': 'PIPELINE'},\n",
      "                          'name': None,\n",
      "                          'relationship': 'OWNER'}]}\n"
     ]
    }
   ],
   "source": [
    "import generate_train_eval \n",
    "from utils import upload_pipeline\n",
    "\n",
    "resp = upload_pipeline('train', generate_train_eval.train_pipeline)\n",
    "print(resp)"
   ]
  }
 ],
 "metadata": {
  "kernelspec": {
   "display_name": "Python 3",
   "language": "python",
   "name": "python3"
  },
  "language_info": {
   "codemirror_mode": {
    "name": "ipython",
    "version": 3
   },
   "file_extension": ".py",
   "mimetype": "text/x-python",
   "name": "python",
   "nbconvert_exporter": "python",
   "pygments_lexer": "ipython3",
   "version": "3.6.9"
  }
 },
 "nbformat": 4,
 "nbformat_minor": 4
}
